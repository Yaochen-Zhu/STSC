{
 "cells": [
  {
   "cell_type": "code",
   "execution_count": 1,
   "metadata": {
    "collapsed": false
   },
   "outputs": [],
   "source": [
    "import numpy as np\n",
    "from scipy.stats import spearmanr\n",
    "from stsc import self_tuning_spectral_clustering_np\n",
    "from stsc import self_tuning_spectral_clustering_autograd\n",
    "from stsc import self_tuning_spectral_clustering_manopt"
   ]
  },
  {
   "cell_type": "code",
   "execution_count": 2,
   "metadata": {
    "collapsed": false
   },
   "outputs": [],
   "source": [
    "base = np.random.randn(100,4)\n",
    "x = np.hstack([base*np.random.rand() for _ in range(5)])\n",
    "x = x+np.random.randn(*x.shape)*0.01"
   ]
  },
  {
   "cell_type": "code",
   "execution_count": 3,
   "metadata": {
    "collapsed": false
   },
   "outputs": [],
   "source": [
    "similarity_matrix = np.abs(spearmanr(x).correlation)"
   ]
  },
  {
   "cell_type": "code",
   "execution_count": 10,
   "metadata": {
    "collapsed": false
   },
   "outputs": [
    {
     "name": "stdout",
     "output_type": "stream",
     "text": [
      "n_cluster: 2 \t cost: 20.796460\n",
      "n_cluster: 3 \t cost: 22.035291\n",
      "n_cluster: 4 \t cost: 42.376062\n"
     ]
    },
    {
     "data": {
      "text/plain": [
       "[[1, 2, 5, 6, 9, 10, 13, 14, 17, 18], [0, 3, 4, 7, 8, 11, 12, 15, 16, 19]]"
      ]
     },
     "execution_count": 10,
     "metadata": {},
     "output_type": "execute_result"
    }
   ],
   "source": [
    "self_tuning_spectral_clustering_np(similarity_matrix)"
   ]
  },
  {
   "cell_type": "code",
   "execution_count": 11,
   "metadata": {
    "collapsed": false
   },
   "outputs": [
    {
     "name": "stdout",
     "output_type": "stream",
     "text": [
      "n_cluster: 2 \t cost: 20.796460\n",
      "n_cluster: 3 \t cost: 22.035291\n",
      "n_cluster: 4 \t cost: 42.376062\n"
     ]
    },
    {
     "data": {
      "text/plain": [
       "[[1, 2, 5, 6, 9, 10, 13, 14, 17, 18], [0, 3, 4, 7, 8, 11, 12, 15, 16, 19]]"
      ]
     },
     "execution_count": 11,
     "metadata": {},
     "output_type": "execute_result"
    }
   ],
   "source": [
    "self_tuning_spectral_clustering_autograd(similarity_matrix)"
   ]
  },
  {
   "cell_type": "code",
   "execution_count": 5,
   "metadata": {
    "collapsed": false
   },
   "outputs": [],
   "source": [
    "# self_tuning_spectral_clustering_manopt(similarity_matrix)\n",
    "# there are some issue with this package optimization on manifold, but we can still use the one above, so no problem"
   ]
  },
  {
   "cell_type": "code",
   "execution_count": null,
   "metadata": {},
   "outputs": [],
   "source": []
  }
 ],
 "metadata": {
  "kernelspec": {
   "display_name": "Python 3.9.7 ('base')",
   "language": "python",
   "name": "python3"
  },
  "language_info": {
   "codemirror_mode": {
    "name": "ipython",
    "version": 3
   },
   "file_extension": ".py",
   "mimetype": "text/x-python",
   "name": "python",
   "nbconvert_exporter": "python",
   "pygments_lexer": "ipython3",
   "version": "3.9.7"
  },
  "vscode": {
   "interpreter": {
    "hash": "3e0285cfb57eee455e4a1113a5997e03acf8d1b1baf27e52c933c8f8cc8bed64"
   }
  }
 },
 "nbformat": 4,
 "nbformat_minor": 2
}
